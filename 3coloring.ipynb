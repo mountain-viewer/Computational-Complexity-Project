{
 "cells": [
  {
   "cell_type": "markdown",
   "metadata": {
    "deletable": true,
    "editable": true
   },
   "source": [
    "# Проект по курсу \"Сложность вычислений\"\n",
    "## Тема: Проверка 3-раскрашиваемости графа (№ 49)\n",
    "### Студент: Ярослав Спирин (группа 594)"
   ]
  },
  {
   "cell_type": "markdown",
   "metadata": {
    "deletable": true,
    "editable": true
   },
   "source": [
    "## Формулировка\n",
    "\n",
    "Требуется имлементировать алгоритм проверки, можно ли покрасить граф из $n$ вершин в $3$ цвета, за время $O(c^n)$ для $c \\leq 2$. Реализация алгоритма для $c \\gt 1.8$ принесёт не больше $7$ баллов, для меньших $c$ — вплоть до $12$ при выборе наилучшего известного алгоритма."
   ]
  },
  {
   "cell_type": "markdown",
   "metadata": {
    "deletable": true,
    "editable": true
   },
   "source": [
    "## Описание работы\n",
    "\n",
    "В данном проекте мы формально поставим вопрос задачи, опишем алгоритм работы нашей программы, его реализацию, докажем его корректность, оценим время его работы и проведём анализ работы алгоритма на тестах."
   ]
  },
  {
   "cell_type": "markdown",
   "metadata": {},
   "source": [
    "## Постановка задачи\n",
    "\n",
    "Пусть $k$ — натуральное число.\n",
    "\n",
    "** Опр.  Раскраской ** графа $G = (V , E )$ в $k$ цветов, или просто $k$-раскраской, называется отображение $f$ из множества $V$ в множество $\\{1, 2, . . . , k\\}$. Если при этом $f (v) = i$ для некоторой вершины $v \\in V$, то будем говорить, что вершина $v$ раскрашена в $i$-й цвет.\n",
    "\n",
    "** Опр. ** Раскраска $f$ графа называется ** правильной **, если $ f(u) \\neq f(v)$ для любых двух смежных вершин $u$ и $v$ этого графа. Если существует правильная $k$-раскраска графа $G$, то $G$ называют $k$-**раскрашиваемым**.\n",
    "\n",
    "Задача заключается в том, чтобы по заданному графу $G = (V , E )$ определять, является он $k$-**раскрашиваемым** или нет. Из курса мы знаем, что задача $3$-раскрашиваемости графа является $NP$-полной, приведём ниже алгоритм, решающий данную задачу за время $O(c^n)$ для $c \\leq 2$."
   ]
  },
  {
   "cell_type": "markdown",
   "metadata": {
    "deletable": true,
    "editable": true
   },
   "source": [
    "## Описание алгоритма\n",
    "\n",
    "** Опр. Независимое множество** - множество вершин графа $G = (V, E)$, в котором никакие две вершины из этого множества не соединены ребром, и при этом нельзя добавить еще вершину в этом множество, чтобы оно осталось независимым.\n",
    "\n",
    "** Алгоритм: ** \n",
    "\n",
    "Рассмотрим все максимальные по включению независимые множества $S$ в заданном графе $G = (V, E)$. Не теряя общности, покрасим все вершины множества $S$ в первый цвет. Далее проверим, можем ли мы покрасить все остальные вершины в оставшиеся два цвета. Если найдем хоть одну такую покраску, то ответ - «существует», иначе «не существует»."
   ]
  },
  {
   "cell_type": "markdown",
   "metadata": {
    "deletable": true,
    "editable": true
   },
   "source": [
    "## Реализация алгоритма\n",
    "\n",
    "Реализация алгоритма будет представлять собой код на `С++`, и основная идея, используемая в решении этой задачи будет основываться на следующую теорему:\n",
    "\n",
    "** Теорема. ** \n",
    "\n",
    "Либо вершина, либо хотя бы одна из её смежных вершин лежит в максимальном по включению независимом множестве.\n",
    "\n",
    "** Доказательство: **\n",
    "\n",
    "Обозначим максимальное по включению независимое множество в графе $G = (V, E)$ через $S$.\n",
    "\n",
    "Предположим противное: пусть ни рассматриваемая вершина, ни одна из её смежных вершин не лежат во множестве $S$. Это означает, что множество $S$ не является максимальным по включению независимым множеством, поскольку при добавлении рассматриваемой вершины в множество $S$ оно не перестанет быть независимым, но при этом его размер увеличивается на один. Получено противоречие.\n",
    "\n",
    "** Детали реализации: **\n",
    "\n",
    "\n",
    "Будем поддерживать некоторое множество $S$, в котором в конечном результате будет находиться максимальное по включению независимое множество.\n",
    "\n",
    "Рассмотрим вершину $v$ с минимальной степенью. Далее добавим в множество $S$ либо вершину $v$, либо одну из её смежных вершин. По доказанной теореме, множество $S$ будет сохранять свойство независимости. После чего будем производить описанные действия до тех пор, пока будет существовать вершина $u$ не из множества $S$, для которой хотя бы одна смежная с ней вершина не будет содержаться во множестве $S$. В конечном итоге будем получать некоторое максимальное по включению независимое множество. Затем для оставшихся вершин будем проверять, можем ли мы их покрасить в 2 цвета, а это решается методом обхода в глубину исходного графа."
   ]
  },
  {
   "cell_type": "markdown",
   "metadata": {
    "deletable": true,
    "editable": true
   },
   "source": [
    "## Корректность алгоритма\n",
    "\n",
    "Пусть на вход дан граф $G = (V, E)$.\n",
    "\n",
    "В силу доказанной теоремы алгоритм работает таким образом, что производится перебор всевозможных максимальных по включению независимых множеств $S$ в графе $G$, после чего для каждого из них производится раскраска графа $\\overline{S} = G \\setminus S$ в два цвета. Откуда следует, что алгоритм рассматривает все допустимые раскаски графа в 3 цвета, а это значит, что алгоритм выполняется корректно."
   ]
  },
  {
   "cell_type": "markdown",
   "metadata": {
    "deletable": true,
    "editable": true
   },
   "source": [
    "## Время работы алгоритма\n",
    "\n",
    "Оценим число максимальных по включению независимых множеств. Заметим, что на каждом шаге можем брать некоторую вершину с минимальной степенью, тогда время работы алгоритма выглядит следующим образом: \n",
    "\n",
    "Пусть степень данной вершины равна $d$, тогда $ T(n) \\sim (d+1) T(n - (d + 1))$ , где $T(n)$ - время работы программы. Откуда получаем, что $T(n) = (d+1)^{\\frac{n}{d+1}}$.\n",
    "\n",
    "Функция $T(n) = (d+1)^{\\frac{n}{d+1}}$ максимальна при $d = 2$, поскольку функция $f(k) = k^{\\frac{1}{k}}$, $k \\in \\mathbb{N}$имеет максимум при $k_{max} = 3$.\n",
    "\n",
    "Значит, число максимальных по включению независимых множеств не больше, чем $3^{\\frac{n}{3}} \\sim 1.44^n$. Кроме того, для каждого такого множества мы делаем $2$-раскраску для оставшихся вершин, что занимает $O(n + m)$ методом обхода в глубину.\n",
    "\n",
    "Итоговая сложность работы программы: $O(1.44^n * (n+m))$, что лучше чем $O(1.8^n)$."
   ]
  },
  {
   "cell_type": "markdown",
   "metadata": {
    "deletable": true,
    "editable": true
   },
   "source": [
    "## Анализ результатов выполненных запусков алгоритма\n",
    "\n",
    "В программе было написано тестирование для реализованного алгоритма:\n",
    "* Для проверки корректности работы программы, был также написан алгоритм $3$-раскрашиваемости графа за время $O(3^n)$, и проверка - совпадают ли ответы для данных алгоритмов. В результате проверки все ответы совпали.\n",
    "* Для проверки времени работы программы, алгоритм был протестирован на случайных графах достаточно больших размеров (для данной задачи), где $N$ достигало порядка $\\sim 30-40$. В результате проверки программа выдавала ответ в приемлемое для данной сложности время. Кроме того, время работы считалось для серии запусков (а не для одного запуска), что позволило стабилизировать результаты.\n",
    "\n",
    "Для иллюстрации результатов выполненных запусков алгоритма предлагается взглянуть на график зависимости времени работы $T(n)$ от числа вершин случайного графа $n$."
   ]
  },
  {
   "cell_type": "code",
   "execution_count": 13,
   "metadata": {
    "collapsed": false
   },
   "outputs": [
    {
     "data": {
      "image/png": "[encoded data removed]",
      "text/plain": [
       "<matplotlib.figure.Figure at 0x110dd7eb8>"
      ]
     },
     "metadata": {},
     "output_type": "display_data"
    }
   ],
   "source": [
    "import numpy as np\n",
    "import matplotlib.pyplot as plt\n",
    "\n",
    "vertices = np.arange(20, 41)\n",
    "times = np.array([29, 37, 64, 48, 144, 149, 242, 641, 532, 1395,\n",
    "                  697, 2283, 1652, 2648, 4829, 7335, 6921, 18927,\n",
    "                  34832, 55155, 79503])\n",
    "\n",
    "plt.figure(figsize=(16, 8))\n",
    "plt.scatter(vertices, times)\n",
    "plt.title('График зависимости времени работы  T(n)', fontsize=18)\n",
    "plt.xlabel('Число вершин графа в серии', fontsize=16)\n",
    "plt.ylabel('Число миллисекунд на запуск серии', fontsize=16)\n",
    "plt.show()"
   ]
  },
  {
   "cell_type": "markdown",
   "metadata": {
    "deletable": true,
    "editable": true
   },
   "source": [
    "## Список литературы\n",
    "* http://www.sci.brooklyn.cuny.edu/~amotz/GC-ALGORITHMS/PRESENTATIONS/coloring.pdf\n",
    "* http://citeseerx.ist.psu.edu/viewdoc/download?doi=10.1.1.341.9463&rep=rep1&type=pdf"
   ]
  }
 ],
 "metadata": {
  "kernelspec": {
   "display_name": "Python 3",
   "language": "python",
   "name": "python3"
  },
  "language_info": {
   "codemirror_mode": {
    "name": "ipython",
    "version": 3
   },
   "file_extension": ".py",
   "mimetype": "text/x-python",
   "name": "python",
   "nbconvert_exporter": "python",
   "pygments_lexer": "ipython3",
   "version": "3.5.2"
  }
 },
 "nbformat": 4,
 "nbformat_minor": 2
}
